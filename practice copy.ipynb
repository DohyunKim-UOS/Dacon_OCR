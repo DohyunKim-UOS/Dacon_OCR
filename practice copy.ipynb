{
 "cells": [
  {
   "cell_type": "code",
   "execution_count": 1,
   "id": "35aa1232",
   "metadata": {},
   "outputs": [],
   "source": [
    "import os\n",
    "import pandas as pd\n",
    "from PIL import Image\n",
    "from ultralytics import YOLO\n",
    "import pytesseract\n",
    "from pdf2image import convert_from_path\n",
    "import subprocess\n",
    "from pathlib import Path"
   ]
  },
  {
   "cell_type": "code",
   "execution_count": 2,
   "id": "2b5fcb61",
   "metadata": {},
   "outputs": [],
   "source": [
    "#새롭게 설치해야 할 라이브러리\n",
    "# pip install \"git+https://github.com/lucas-r/pix2tex.git\"\n",
    "from pix2tex.cli import LatexOCR"
   ]
  },
  {
   "cell_type": "code",
   "execution_count": 3,
   "id": "996725a1",
   "metadata": {},
   "outputs": [],
   "source": [
    "# 모델 로딩\n",
    "yolo_model = YOLO(\"./model/yolov11n-doclaynet.pt\")"
   ]
  },
  {
   "cell_type": "code",
   "execution_count": 4,
   "id": "2438093e",
   "metadata": {},
   "outputs": [],
   "source": [
    "#새로운 모델\n",
    "equation_model = LatexOCR()"
   ]
  },
  {
   "cell_type": "code",
   "execution_count": 5,
   "id": "37fefbe2",
   "metadata": {},
   "outputs": [],
   "source": [
    "# 클래스 매핑\n",
    "LABEL_MAP = {\n",
    "    'Text': 'text',\n",
    "    'Title': 'title',\n",
    "    'Section-header': 'subtitle',\n",
    "    'Formula': 'equation',\n",
    "    'Table': 'table',\n",
    "    'Picture': 'image'\n",
    "}"
   ]
  },
  {
   "cell_type": "code",
   "execution_count": 6,
   "id": "c008554b",
   "metadata": {},
   "outputs": [],
   "source": [
    "def convert_to_images(input_path, temp_dir, dpi=200):\n",
    "    ext = Path(input_path).suffix.lower()\n",
    "    os.makedirs(temp_dir, exist_ok=True)\n",
    "\n",
    "    if ext == \".pdf\":\n",
    "        return convert_from_path(input_path, dpi=dpi, output_folder=temp_dir, fmt=\"png\")\n",
    "    elif ext == \".pptx\":\n",
    "        # Convert pptx to pdf first\n",
    "        subprocess.run([\n",
    "            \"libreoffice\", \"--headless\", \"--convert-to\", \"pdf\", \"--outdir\", temp_dir, input_path\n",
    "        ], check=True)\n",
    "        pdf_path = os.path.join(temp_dir, Path(input_path).with_suffix(\".pdf\").name)\n",
    "        return convert_from_path(pdf_path, dpi=dpi, output_folder=temp_dir, fmt=\"png\")\n",
    "    elif ext in [\".jpg\", \".jpeg\", \".png\"]:\n",
    "        return [Image.open(input_path).convert(\"RGB\")]\n",
    "    else:\n",
    "        raise ValueError(f\"지원하지 않는 파일 형식입니다: {ext}\")"
   ]
  },
  {
   "cell_type": "code",
   "execution_count": 7,
   "id": "fdd60e2a",
   "metadata": {},
   "outputs": [],
   "source": [
    "def scale_bbox_to_target(bbox, current_size, target_size):\n",
    "    x1, y1, x2, y2 = bbox\n",
    "    scale_x = target_size[0] / current_size[0]\n",
    "    scale_y = target_size[1] / current_size[1]\n",
    "    return [\n",
    "        int(x1 * scale_x),\n",
    "        int(y1 * scale_y),\n",
    "        int(x2 * scale_x),\n",
    "        int(y2 * scale_y)\n",
    "    ]"
   ]
  },
  {
   "cell_type": "code",
   "execution_count": 8,
   "id": "d29a8d44",
   "metadata": {},
   "outputs": [],
   "source": [
    "# OCR 정확도 높이는 방향으로 수정 요함\n",
    "def extract_text(image_pil, bbox): \n",
    "    x1, y1, x2, y2 = bbox\n",
    "    cropped = image_pil.crop((x1, y1, x2, y2))\n",
    "    return pytesseract.image_to_string(cropped, lang='kor+eng').strip()"
   ]
  },
  {
   "cell_type": "markdown",
   "id": "a1067bb2",
   "metadata": {},
   "source": [
    "이 함수는 개선이 필요할까?\n",
    "이 함수는 텍스트 추출의 기본 기능은 잘 수행하고 있습니다. 하지만 OCR의 정확도를 높이려면 다음 부분을 개선할 수 있습니다.\n",
    "\n",
    "해상도 최적화: convert_to_images 함수에서 dpi 값을 조정하면 OCR 정확도가 달라질 수 있습니다. 예를 들어, DPI를 높이면 더 선명한 이미지를 얻어 정확도가 높아지지만, 처리 속도가 느려집니다.\n",
    "\n",
    "전처리 강화: 텍스트 추출 전에 이미지의 대비(contrast)를 높이거나, 노이즈를 제거하는 등의 전처리 작업을 추가하면 OCR 성능이 더 좋아질 수 있습니다.\n",
    "\n",
    "다른 OCR 엔진 사용: pytesseract 외에 EasyOCR나 PaddleOCR와 같은 다른 OCR 라이브러리를 사용해 보세요. 이들은 경우에 따라 더 높은 정확도를 제공할 수 있습니다.\n",
    "\n",
    "결론적으로, 이 함수는 텍스트 추출의 핵심이므로, OCR 정확도를 높이는 방향으로 개선을 고려해 볼 수 있습니다."
   ]
  },
  {
   "cell_type": "code",
   "execution_count": 9,
   "id": "27cfb1ad",
   "metadata": {},
   "outputs": [],
   "source": [
    "#개선\n",
    "def extract_equation_as_latex(image_pil, bbox):\n",
    "    try:\n",
    "        x1, y1, x2, y2 = bbox\n",
    "        cropped_image = image_pil.crop((x1, y1, x2, y2))\n",
    "        \n",
    "        # Pix2Tex 모델을 사용하여 이미지에서 LaTeX 코드 추출\n",
    "        latex_code = equation_model(cropped_image)\n",
    "        \n",
    "        return f'${latex_code}$'\n",
    "        \n",
    "    except Exception as e:\n",
    "        print(f\"수식 변환 실패: {e}\")\n",
    "        return \"\" # 오류 발생 시 빈 문자열 반환"
   ]
  },
  {
   "cell_type": "code",
   "execution_count": 10,
   "id": "c2e6c9af",
   "metadata": {},
   "outputs": [],
   "source": [
    "# def inference_one_image(id_val, image_pil, target_size, conf_thres=0.3):\n",
    "#     original_size = image_pil.size  # (w, h)\n",
    "#     resized_image = image_pil.resize((1024, 1024))\n",
    "#     temp_path = \"_temp_image.png\"\n",
    "#     resized_image.save(temp_path)\n",
    "\n",
    "#     results = model(source=temp_path, imgsz=1024, conf=conf_thres, verbose=False)[0]\n",
    "#     os.remove(temp_path)\n",
    "\n",
    "#     predictions = []\n",
    "#     order = 0\n",
    "#     for box, score, cls in zip(results.boxes.xyxy, results.boxes.conf, results.boxes.cls):\n",
    "#         label = results.names[int(cls)]\n",
    "#         if label not in LABEL_MAP:\n",
    "#             continue\n",
    "#         category_type = LABEL_MAP[label]\n",
    "#         x1, y1, x2, y2 = scale_bbox_to_target(box.tolist(), (1024, 1024), target_size)\n",
    "#         text = extract_text(image_pil, [x1, y1, x2, y2]) if category_type in ['title', 'subtitle', 'text'] else ''\n",
    "#         predictions.append({\n",
    "#             'ID': id_val,\n",
    "#             'category_type': category_type,\n",
    "#             'confidence_score': score.cpu().item(),\n",
    "#             'order': order,\n",
    "#             'text': text,\n",
    "#             'bbox': f'{x1}, {y1}, {x2}, {y2}'\n",
    "#         })\n",
    "#         order += 1\n",
    "#     return predictions"
   ]
  },
  {
   "cell_type": "markdown",
   "id": "4fe2f223",
   "metadata": {},
   "source": [
    "네, 이 함수는 가장 많이 수정하고 개선해야 할 부분입니다. 특히 다음 두 가지가 핵심 개선점입니다.\n",
    "\n",
    "순서(order) 예측 로직:\n",
    "\n",
    "현재 코드는 order = 0으로 시작하여 루프를 돌 때마다 order += 1을 합니다. 이는 모델이 결과를 반환한 순서대로 순위를 매기는 것으로, 논리적인 읽기 순서와는 아무 관련이 없습니다.\n",
    "\n",
    "개선 방법: 루프가 끝난 후 predictions 리스트를 bbox 좌표를 기준으로 재정렬하는 새로운 로직을 추가해야 합니다. 예를 들어, y1 좌표를 기준으로 오름차순 정렬하고, y1이 같을 경우 x1을 기준으로 다시 정렬하는 방식이 가장 기본적입니다.\n",
    "\n",
    "수식(equation) 추출:\n",
    "\n",
    "현재 코드에는 수식(Formula)이 category_type으로는 존재하지만, text를 추출하지 않습니다.\n",
    "\n",
    "개선 방법: category_type이 'equation'일 때, text를 빈 문자열('')로 두는 대신, extract_text 함수와는 별개로 수식 이미지를 LaTeX로 변환하는 새로운 함수를 호출하여 결과를 text 필드에 채워 넣어야 합니다."
   ]
  },
  {
   "cell_type": "code",
   "execution_count": 11,
   "id": "87beb165",
   "metadata": {},
   "outputs": [],
   "source": [
    "#개선\n",
    "def inference_one_image_improved(id_val, image_pil, target_size, conf_thres=0.5):\n",
    "    original_size = image_pil.size\n",
    "    resized_image = image_pil.resize((1024, 1024))\n",
    "    temp_path = \"_temp_image.png\"\n",
    "    resized_image.save(temp_path)\n",
    "\n",
    "    results = yolo_model(source=temp_path, imgsz=1024, conf=conf_thres, verbose=False)[0]\n",
    "    os.remove(temp_path)\n",
    "\n",
    "    predictions = []\n",
    "    \n",
    "    # 1. 모델 예측 결과를 리스트에 저장\n",
    "    for box, score, cls in zip(results.boxes.xyxy, results.boxes.conf, results.boxes.cls):\n",
    "        label = results.names[int(cls)]\n",
    "        if label not in LABEL_MAP:\n",
    "            continue\n",
    "        category_type = LABEL_MAP[label]\n",
    "        bbox_scaled = scale_bbox_to_target(box.tolist(), (1024, 1024), target_size)\n",
    "        \n",
    "        # 💡 개선된 로직: category_type에 따라 한 번만 호출\n",
    "        text = ''\n",
    "        if category_type in ['title', 'subtitle', 'text']:\n",
    "            text = extract_text(image_pil, bbox_scaled)\n",
    "        elif category_type == 'equation':\n",
    "            text = extract_equation_as_latex(image_pil, bbox_scaled, equation_model)\n",
    "        \n",
    "        predictions.append({\n",
    "            'ID': id_val,\n",
    "            'category_type': category_type,\n",
    "            'confidence_score': score.cpu().item(),\n",
    "            'bbox': f'{bbox_scaled[0]}, {bbox_scaled[1]}, {bbox_scaled[2]}, {bbox_scaled[3]}',\n",
    "            'bbox_list': bbox_scaled, \n",
    "            'text': text\n",
    "        })\n",
    "\n",
    "    # 2. 바운딩 박스 위치를 기준으로 정렬\n",
    "    predictions.sort(key=lambda p: (p['bbox_list'][1], p['bbox_list'][0]))\n",
    "    \n",
    "    # 3. 정렬된 리스트에 'order' 값 부여\n",
    "    for i, p in enumerate(predictions):\n",
    "        p['order'] = i\n",
    "        del p['bbox_list']\n",
    "        \n",
    "    return predictions\n"
   ]
  },
  {
   "cell_type": "code",
   "execution_count": 12,
   "id": "20051429",
   "metadata": {},
   "outputs": [],
   "source": [
    "def inference(test_csv_path=\"./data/test.csv\", output_csv_path=\"./output/submission.csv\"):\n",
    "    output_dir = os.path.dirname(output_csv_path)\n",
    "    os.makedirs(output_dir, exist_ok=True)\n",
    "\n",
    "    temp_image_dir = \"./temp_images\"\n",
    "    os.makedirs(temp_image_dir, exist_ok=True)\n",
    "\n",
    "    csv_dir = os.path.dirname(test_csv_path)\n",
    "    test_df = pd.read_csv(test_csv_path)\n",
    "    all_preds = []\n",
    "\n",
    "    for _, row in test_df.iterrows():\n",
    "        id_val = row['ID']\n",
    "        raw_path = row['path']\n",
    "        file_path = os.path.normpath(os.path.join(csv_dir, raw_path))\n",
    "        target_width = int(row['width'])\n",
    "        target_height = int(row['height'])\n",
    "\n",
    "        if not os.path.exists(file_path):\n",
    "            print(f\"⚠️ 파일 없음: {file_path}\")\n",
    "            continue\n",
    "\n",
    "        try:\n",
    "            images = convert_to_images(file_path, temp_image_dir)\n",
    "            for i, image in enumerate(images):\n",
    "                full_id = f\"{id_val}_p{i+1}\" if len(images) > 1 else id_val\n",
    "                preds = inference_one_image_improved(full_id, image, (target_width, target_height))\n",
    "                all_preds.extend(preds)\n",
    "            print(f\"✅ 예측 완료: {file_path}\")\n",
    "        except Exception as e:\n",
    "            print(f\"❌ 처리 실패: {file_path} → {e}\")\n",
    "\n",
    "    result_df = pd.DataFrame(all_preds)\n",
    "    result_df.to_csv(output_csv_path, index=False, encoding='UTF-8-sig')\n",
    "    print(f\"✅ 저장 완료: {output_csv_path}\")"
   ]
  },
  {
   "cell_type": "code",
   "execution_count": null,
   "id": "a9afe1a8",
   "metadata": {},
   "outputs": [],
   "source": [
    "if __name__ == \"__main__\":\n",
    "    inference(\"./data/test.csv\", \"./output/submission.csv\")"
   ]
  },
  {
   "cell_type": "code",
   "execution_count": null,
   "id": "6cde3453-fabd-4b1e-a61f-eeb90f3bf4ba",
   "metadata": {},
   "outputs": [],
   "source": []
  }
 ],
 "metadata": {
  "kernelspec": {
   "display_name": "dacon2025samsung",
   "language": "python",
   "name": "dacon2025samsung"
  },
  "language_info": {
   "codemirror_mode": {
    "name": "ipython",
    "version": 3
   },
   "file_extension": ".py",
   "mimetype": "text/x-python",
   "name": "python",
   "nbconvert_exporter": "python",
   "pygments_lexer": "ipython3",
   "version": "3.13.5"
  },
  "widgets": {
   "application/vnd.jupyter.widget-state+json": {
    "state": {},
    "version_major": 2,
    "version_minor": 0
   }
  }
 },
 "nbformat": 4,
 "nbformat_minor": 5
}
